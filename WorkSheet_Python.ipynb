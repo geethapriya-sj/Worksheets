{
 "cells": [
  {
   "cell_type": "markdown",
   "metadata": {},
   "source": [
    "Q.14 Write a python program to solve a quadratic equation of the form 𝑎𝑥\n",
    "2 + 𝑏𝑥 + 𝑐 = 0. Where a, b and c are to\n",
    "be taken by user input. Handle the erroneous input, such as ‘a’ should not be equal to 0"
   ]
  },
  {
   "cell_type": "code",
   "execution_count": 40,
   "metadata": {},
   "outputs": [
    {
     "name": "stdout",
     "output_type": "stream",
     "text": [
      "Enter the value for a1\n",
      "Enter the value for b3\n",
      "Enter the value for c4\n",
      "the value for x are (-1.5-1.3228756555322954j) (-1.5+1.3228756555322954j)\n"
     ]
    }
   ],
   "source": [
    "import cmath\n",
    "a = input('Enter the value for a')\n",
    "b = input('Enter the value for b')\n",
    "c = input('Enter the value for c')\n",
    "\n",
    "a,b,c = ValidateUserInput(a,b,c)\n",
    "\n",
    "try:\n",
    "    d = (b**2) - (4*a*c)\n",
    "    quada_x_neg = (-b-cmath.sqrt(d))/(2*a)\n",
    "    quada_x_pos = (-b+cmath.sqrt(d))/(2*a)\n",
    "    print('the value for x are {0} {1}'.format(quada_x_neg,quada_x_pos))\n",
    "except:\n",
    "    print('Computation error')"
   ]
  },
  {
   "cell_type": "code",
   "execution_count": 34,
   "metadata": {},
   "outputs": [],
   "source": [
    "def ValidateUserInput(a,b,c):\n",
    "    try:\n",
    "        try:\n",
    "            if float(a) == 0:\n",
    "                print('a must not be zero')\n",
    "            else:\n",
    "                a=float(a)\n",
    "        except:\n",
    "            print('invalid input a')\n",
    "        try:\n",
    "            b=float(b)\n",
    "        except:\n",
    "            print('invalid user input b')\n",
    "        try:\n",
    "            c=float(c)\n",
    "            return a,b,c\n",
    "        except:\n",
    "            print('invalid user input c')\n",
    "    except:\n",
    "        return 'error'"
   ]
  },
  {
   "cell_type": "markdown",
   "metadata": {},
   "source": [
    "Q.15 Write a python program to find the sum of first ‘n’ natural numbers without using any loop. Ask user to input\n",
    "the value of ‘n’."
   ]
  },
  {
   "cell_type": "code",
   "execution_count": 62,
   "metadata": {},
   "outputs": [
    {
     "name": "stdout",
     "output_type": "stream",
     "text": [
      "enter Value for n4\n",
      "The sum of 4.0 natural number is 10.0:\n"
     ]
    }
   ],
   "source": [
    "n = input('enter Value for n')\n",
    "try:\n",
    "    if(float(n) < 0):\n",
    "        print('Enter postive number')\n",
    "    else:\n",
    "        n=float(n)\n",
    "        res = n*(n+1)/2\n",
    "        print('The sum of {0} natural number is {1}:'.format(n,res))\n",
    "except:\n",
    "    print('invalid number')"
   ]
  },
  {
   "cell_type": "code",
   "execution_count": null,
   "metadata": {},
   "outputs": [],
   "source": []
  }
 ],
 "metadata": {
  "kernelspec": {
   "display_name": "Python 3",
   "language": "python",
   "name": "python3"
  },
  "language_info": {
   "codemirror_mode": {
    "name": "ipython",
    "version": 3
   },
   "file_extension": ".py",
   "mimetype": "text/x-python",
   "name": "python",
   "nbconvert_exporter": "python",
   "pygments_lexer": "ipython3",
   "version": "3.7.4"
  }
 },
 "nbformat": 4,
 "nbformat_minor": 2
}
